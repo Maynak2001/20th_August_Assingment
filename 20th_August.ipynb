{
 "cells": [
  {
   "cell_type": "code",
   "execution_count": 1,
   "id": "656c1850-7f61-4687-88b9-9259beb769c3",
   "metadata": {},
   "outputs": [
    {
     "name": "stdin",
     "output_type": "stream",
     "text": [
      "Enter a string:  Pwskills\n"
     ]
    },
    {
     "name": "stdout",
     "output_type": "stream",
     "text": [
      "Reversed string: sllikswP\n"
     ]
    }
   ],
   "source": [
    "def reverse_string(input_string):\n",
    "    # Initialize an empty string to store the reversed string\n",
    "    reversed_string = \"\"\n",
    "    \n",
    "    # Iterate through the input string in reverse order\n",
    "    for char in reversed(input_string):\n",
    "        # Append each character to the reversed string\n",
    "        reversed_string += char\n",
    "    \n",
    "    return reversed_string\n",
    "\n",
    "# Input string\n",
    "input_string = input(\"Enter a string: \")\n",
    "\n",
    "# Call the reverse_string function and print the result\n",
    "reversed_result = reverse_string(input_string)\n",
    "print(\"Reversed string:\", reversed_result)"
   ]
  },
  {
   "cell_type": "code",
   "execution_count": 2,
   "id": "89585e55-9a72-4a4d-ac26-930f646a409c",
   "metadata": {},
   "outputs": [
    {
     "name": "stdin",
     "output_type": "stream",
     "text": [
      "Enter a string:  22\n"
     ]
    },
    {
     "name": "stdout",
     "output_type": "stream",
     "text": [
      "The string is a palindrome.\n"
     ]
    }
   ],
   "source": [
    "def is_palindrome(input_string):\n",
    "    # Remove spaces and convert the input string to lowercase\n",
    "    cleaned_string = input_string.replace(\" \", \"\").lower()\n",
    "    \n",
    "    # Reverse the cleaned string\n",
    "    reversed_string = cleaned_string[::-1]\n",
    "    \n",
    "    # Check if the cleaned string is equal to its reverse\n",
    "    return cleaned_string == reversed_string\n",
    "\n",
    "# Input string\n",
    "input_string = input(\"Enter a string: \")\n",
    "\n",
    "# Call the is_palindrome function and print the result\n",
    "if is_palindrome(input_string):\n",
    "    print(\"The string is a palindrome.\")\n",
    "else:\n",
    "    print(\"The string is not a palindrome.\")"
   ]
  },
  {
   "cell_type": "code",
   "execution_count": 3,
   "id": "f513725c-e25e-45c7-a198-35d3d0ac2200",
   "metadata": {},
   "outputs": [
    {
     "name": "stdin",
     "output_type": "stream",
     "text": [
      "Enter a string:  pwskills\n"
     ]
    },
    {
     "name": "stdout",
     "output_type": "stream",
     "text": [
      "Method 1 (using upper() method): PWSKILLS\n",
      "Method 2 (using str.upper() function): PWSKILLS\n"
     ]
    }
   ],
   "source": [
    "# Method 1: Using the upper() method\n",
    "def convert_to_uppercase_method1(input_string):\n",
    "    # Use the upper() method to convert the string to uppercase\n",
    "    uppercase_string = input_string.upper()\n",
    "    return uppercase_string\n",
    "\n",
    "# Method 2: Using the str.upper() function\n",
    "def convert_to_uppercase_method2(input_string):\n",
    "    # Use the str.upper() function to convert the string to uppercase\n",
    "    uppercase_string = str.upper(input_string)\n",
    "    return uppercase_string\n",
    "\n",
    "# Input string\n",
    "input_string = input(\"Enter a string: \")\n",
    "\n",
    "# Method 1: Call the convert_to_uppercase_method1 function and print the result\n",
    "result_method1 = convert_to_uppercase_method1(input_string)\n",
    "print(\"Method 1 (using upper() method):\", result_method1)\n",
    "\n",
    "# Method 2: Call the convert_to_uppercase_method2 function and print the result\n",
    "result_method2 = convert_to_uppercase_method2(input_string)\n",
    "print(\"Method 2 (using str.upper() function):\", result_method2)"
   ]
  },
  {
   "cell_type": "code",
   "execution_count": 4,
   "id": "4afc8800-74b4-4187-b14a-ceca279d86c7",
   "metadata": {},
   "outputs": [
    {
     "name": "stdin",
     "output_type": "stream",
     "text": [
      "Enter a string:  PWSKILLS\n"
     ]
    },
    {
     "name": "stdout",
     "output_type": "stream",
     "text": [
      "Method 1 (using lower() method): pwskills\n",
      "Method 2 (using str.lower() function): pwskills\n"
     ]
    }
   ],
   "source": [
    "# Method 1: Using the lower() method\n",
    "def convert_to_lowercase_method1(input_string):\n",
    "    # Use the lower() method to convert the string to lowercase\n",
    "    lowercase_string = input_string.lower()\n",
    "    return lowercase_string\n",
    "\n",
    "# Method 2: Using the str.lower() function\n",
    "def convert_to_lowercase_method2(input_string):\n",
    "    # Use the str.lower() function to convert the string to lowercase\n",
    "    lowercase_string = str.lower(input_string)\n",
    "    return lowercase_string\n",
    "\n",
    "# Input string\n",
    "input_string = input(\"Enter a string: \")\n",
    "\n",
    "# Method 1: Call the convert_to_lowercase_method1 function and print the result\n",
    "result_method1 = convert_to_lowercase_method1(input_string)\n",
    "print(\"Method 1 (using lower() method):\", result_method1)\n",
    "\n",
    "# Method 2: Call the convert_to_lowercase_method2 function and print the result\n",
    "result_method2 = convert_to_lowercase_method2(input_string)\n",
    "print(\"Method 2 (using str.lower() function):\", result_method2)"
   ]
  },
  {
   "cell_type": "code",
   "execution_count": 5,
   "id": "9e18cd0f-4143-48bf-b2ac-b65d7bee6a90",
   "metadata": {},
   "outputs": [
    {
     "name": "stdin",
     "output_type": "stream",
     "text": [
      "Enter a string:  my name is Maynak\n"
     ]
    },
    {
     "name": "stdout",
     "output_type": "stream",
     "text": [
      "Number of vowels in the string: 5\n"
     ]
    }
   ],
   "source": [
    "def count_vowels(input_string):\n",
    "    # Define a set of vowels\n",
    "    vowels = set(\"aeiouAEIOU\")\n",
    "    \n",
    "    # Initialize a variable to count the number of vowels\n",
    "    vowel_count = 0\n",
    "    \n",
    "    # Iterate through each character in the input string\n",
    "    for char in input_string:\n",
    "        # Check if the character is a vowel\n",
    "        if char in vowels:\n",
    "            vowel_count += 1\n",
    "    \n",
    "    return vowel_count\n",
    "\n",
    "# Input string\n",
    "input_string = input(\"Enter a string: \")\n",
    "\n",
    "# Call the count_vowels function and print the result\n",
    "vowel_count = count_vowels(input_string)\n",
    "print(\"Number of vowels in the string:\", vowel_count)"
   ]
  },
  {
   "cell_type": "code",
   "execution_count": 6,
   "id": "c2876d95-d5a2-47ce-b5b9-1c33c3497f2e",
   "metadata": {},
   "outputs": [
    {
     "name": "stdin",
     "output_type": "stream",
     "text": [
      "Enter a string:  PWSKILLS\n"
     ]
    },
    {
     "name": "stdout",
     "output_type": "stream",
     "text": [
      "Number of consonants in the string: 7\n"
     ]
    }
   ],
   "source": [
    "def count_consonants(input_string):\n",
    "    # Define a set of vowels\n",
    "    vowels = set(\"aeiouAEIOU\")\n",
    "    \n",
    "    # Initialize a variable to count the number of consonants\n",
    "    consonant_count = 0\n",
    "    \n",
    "    # Iterate through each character in the input string\n",
    "    for char in input_string:\n",
    "        # Check if the character is a letter (alphabet character)\n",
    "        if char.isalpha():\n",
    "            # Check if the letter is not a vowel\n",
    "            if char not in vowels:\n",
    "                consonant_count += 1\n",
    "    \n",
    "    return consonant_count\n",
    "\n",
    "# Input string\n",
    "input_string = input(\"Enter a string: \")\n",
    "\n",
    "# Call the count_consonants function and print the result\n",
    "consonant_count = count_consonants(input_string)\n",
    "print(\"Number of consonants in the string:\", consonant_count)"
   ]
  },
  {
   "cell_type": "code",
   "execution_count": 7,
   "id": "9e23610b-07b8-47d8-a36d-460c8ba223aa",
   "metadata": {},
   "outputs": [
    {
     "name": "stdin",
     "output_type": "stream",
     "text": [
      "Enter a string:  pw skills\n"
     ]
    },
    {
     "name": "stdout",
     "output_type": "stream",
     "text": [
      "String with whitespaces removed: pwskills\n"
     ]
    }
   ],
   "source": [
    "def remove_whitespace(input_string):\n",
    "    # Initialize an empty string to store the result\n",
    "    result = \"\"\n",
    "    \n",
    "    # Iterate through each character in the input string\n",
    "    for char in input_string:\n",
    "        # Check if the character is not a whitespace character\n",
    "        if not char.isspace():\n",
    "            result += char\n",
    "    \n",
    "    return result\n",
    "\n",
    "# Input string\n",
    "input_string = input(\"Enter a string: \")\n",
    "\n",
    "# Call the remove_whitespace function and print the result\n",
    "cleaned_string = remove_whitespace(input_string)\n",
    "print(\"String with whitespaces removed:\", cleaned_string)"
   ]
  },
  {
   "cell_type": "code",
   "execution_count": 8,
   "id": "062a1cbf-1cc7-46d6-a5ab-b85a44c606d0",
   "metadata": {},
   "outputs": [
    {
     "name": "stdin",
     "output_type": "stream",
     "text": [
      "Enter a string:  pwskills\n"
     ]
    },
    {
     "name": "stdout",
     "output_type": "stream",
     "text": [
      "Length of the string: 8\n"
     ]
    }
   ],
   "source": [
    "def string_length(input_string):\n",
    "    # Initialize a counter to keep track of the number of characters\n",
    "    count = 0\n",
    "    \n",
    "    # Iterate through each character in the input string\n",
    "    for char in input_string:\n",
    "        count += 1\n",
    "    \n",
    "    return count\n",
    "\n",
    "# Input string\n",
    "input_string = input(\"Enter a string: \")\n",
    "\n",
    "# Call the string_length function and print the result\n",
    "length = string_length(input_string)\n",
    "print(\"Length of the string:\", length)"
   ]
  },
  {
   "cell_type": "code",
   "execution_count": 10,
   "id": "f82e7a2d-edfa-4d88-883b-35c2c3791b10",
   "metadata": {},
   "outputs": [
    {
     "name": "stdin",
     "output_type": "stream",
     "text": [
      "Enter a string:  pwskills\n",
      "Enter the word to check for:  a\n"
     ]
    },
    {
     "name": "stdout",
     "output_type": "stream",
     "text": [
      "The string does not contain the word 'a'.\n"
     ]
    }
   ],
   "source": [
    "def contains_word(input_string, target_word):\n",
    "    # Check if the target_word is in the input_string\n",
    "    return target_word in input_string\n",
    "\n",
    "# Input string\n",
    "input_string = input(\"Enter a string: \")\n",
    "target_word = input(\"Enter the word to check for: \")\n",
    "\n",
    "# Call the contains_word function and print the result\n",
    "if contains_word(input_string, target_word):\n",
    "    print(f\"The string contains the word '{target_word}'.\")\n",
    "else:\n",
    "    print(f\"The string does not contain the word '{target_word}'.\")\n"
   ]
  },
  {
   "cell_type": "code",
   "execution_count": 11,
   "id": "6f7a323e-2d54-4112-be23-3ee200b36b6a",
   "metadata": {},
   "outputs": [
    {
     "name": "stdin",
     "output_type": "stream",
     "text": [
      "Enter a string:  I am not happy today\n",
      "Enter the word to replace:  not\n",
      "Enter the replacement word:  very\n"
     ]
    },
    {
     "name": "stdout",
     "output_type": "stream",
     "text": [
      "Modified string: I am very happy today\n"
     ]
    }
   ],
   "source": [
    "def replace_word(input_string, old_word, new_word):\n",
    "    # Use the str.replace() method to replace old_word with new_word\n",
    "    replaced_string = input_string.replace(old_word, new_word)\n",
    "    return replaced_string\n",
    "\n",
    "# Input string\n",
    "input_string = input(\"Enter a string: \")\n",
    "old_word = input(\"Enter the word to replace: \")\n",
    "new_word = input(\"Enter the replacement word: \")\n",
    "\n",
    "# Call the replace_word function and print the result\n",
    "modified_string = replace_word(input_string, old_word, new_word)\n",
    "print(\"Modified string:\", modified_string)\n"
   ]
  },
  {
   "cell_type": "code",
   "execution_count": 12,
   "id": "8d4e7fa1-888e-4481-b1e9-77969bbc1ad4",
   "metadata": {},
   "outputs": [
    {
     "name": "stdin",
     "output_type": "stream",
     "text": [
      "Enter a string:  pwskills\n",
      "Enter the word to count:  s\n"
     ]
    },
    {
     "name": "stdout",
     "output_type": "stream",
     "text": [
      "The word 's' appears 2 times in the string.\n"
     ]
    }
   ],
   "source": [
    "def count_occurrences(input_string, target_word):\n",
    "    # Use the str.count() method to count the occurrences of target_word\n",
    "    return input_string.count(target_word)\n",
    "\n",
    "# Input string\n",
    "input_string = input(\"Enter a string: \")\n",
    "target_word = input(\"Enter the word to count: \")\n",
    "\n",
    "# Call the count_occurrences function and print the result\n",
    "occurrence_count = count_occurrences(input_string, target_word)\n",
    "print(f\"The word '{target_word}' appears {occurrence_count} times in the string.\")\n"
   ]
  },
  {
   "cell_type": "code",
   "execution_count": 14,
   "id": "ebd837f5-7066-414d-849e-59fdf6f44c18",
   "metadata": {},
   "outputs": [
    {
     "name": "stdin",
     "output_type": "stream",
     "text": [
      "Enter a string:  pwskills\n",
      "Enter the word to find:  k\n"
     ]
    },
    {
     "name": "stdout",
     "output_type": "stream",
     "text": [
      "The first occurrence of 'k' starts at index 3.\n"
     ]
    }
   ],
   "source": [
    "def find_first_occurrence(input_string, target_word):\n",
    "    # Use the str.find() method to find the index of the first occurrence of target_word\n",
    "    index = input_string.find(target_word)\n",
    "    \n",
    "    # Check if the word was found\n",
    "    if index != -1:\n",
    "        return f\"The first occurrence of '{target_word}' starts at index {index}.\"\n",
    "    else:\n",
    "        return f\"'{target_word}' was not found in the string.\"\n",
    "\n",
    "# Input string\n",
    "input_string = input(\"Enter a string: \")\n",
    "target_word = input(\"Enter the word to find: \")\n",
    "\n",
    "# Call the find_first_occurrence function and print the result\n",
    "result = find_first_occurrence(input_string, target_word)\n",
    "print(result)\n"
   ]
  },
  {
   "cell_type": "code",
   "execution_count": 15,
   "id": "82a66ea7-28c2-4fea-85ab-f1deb866e2ca",
   "metadata": {},
   "outputs": [
    {
     "name": "stdin",
     "output_type": "stream",
     "text": [
      "Enter a string:  pwskills\n",
      "Enter the word to find:  k\n"
     ]
    },
    {
     "name": "stdout",
     "output_type": "stream",
     "text": [
      "The last occurrence of 'k' starts at index 3.\n"
     ]
    }
   ],
   "source": [
    "def find_last_occurrence(input_string, target_word):\n",
    "    # Use the str.rfind() method to find the index of the last occurrence of target_word\n",
    "    index = input_string.rfind(target_word)\n",
    "    \n",
    "    # Check if the word was found\n",
    "    if index != -1:\n",
    "        return f\"The last occurrence of '{target_word}' starts at index {index}.\"\n",
    "    else:\n",
    "        return f\"'{target_word}' was not found in the string.\"\n",
    "\n",
    "# Input string\n",
    "input_string = input(\"Enter a string: \")\n",
    "target_word = input(\"Enter the word to find: \")\n",
    "\n",
    "# Call the find_last_occurrence function and print the result\n",
    "result = find_last_occurrence(input_string, target_word)\n",
    "print(result)\n"
   ]
  },
  {
   "cell_type": "code",
   "execution_count": 17,
   "id": "51d3d118-e3d5-4738-940e-11b7407e8a89",
   "metadata": {},
   "outputs": [
    {
     "name": "stdin",
     "output_type": "stream",
     "text": [
      "Enter a string:  pw skills\n"
     ]
    },
    {
     "name": "stdout",
     "output_type": "stream",
     "text": [
      "List of words: ['pw', 'skills']\n"
     ]
    }
   ],
   "source": [
    "def split_string(input_string):\n",
    "    # Use the str.split() method to split the input_string into words\n",
    "    words = input_string.split()\n",
    "    return words\n",
    "\n",
    "# Input string\n",
    "input_string = input(\"Enter a string: \")\n",
    "\n",
    "# Call the split_string function and print the result\n",
    "word_list = split_string(input_string)\n",
    "print(\"List of words:\", word_list)\n"
   ]
  },
  {
   "cell_type": "code",
   "execution_count": 22,
   "id": "375ca425-db23-4b30-967f-b15897f078e5",
   "metadata": {},
   "outputs": [
    {
     "name": "stdin",
     "output_type": "stream",
     "text": [
      "Enter the separator (default is space):  pwskills is\n"
     ]
    },
    {
     "name": "stdout",
     "output_type": "stream",
     "text": [
      "Joined string: Thispwskills isawsome\n"
     ]
    }
   ],
   "source": [
    "def join_words(word_list, separator=\" \"):\n",
    "    # Use the str.join() method to join the words in the list\n",
    "    joined_string = separator.join(word_list)\n",
    "    return joined_string\n",
    "\n",
    "# List of words\n",
    "word_list = [\"This\", \"awsome\",]\n",
    "\n",
    "# Call the join_words function and print the result\n",
    "separator = input(\"Enter the separator (default is space): \") or \" \"\n",
    "result = join_words(word_list, separator)\n",
    "print(\"Joined string:\", result)\n"
   ]
  },
  {
   "cell_type": "code",
   "execution_count": 23,
   "id": "a0e801c0-5f18-41f2-89bf-8438a516fc0d",
   "metadata": {},
   "outputs": [
    {
     "name": "stdin",
     "output_type": "stream",
     "text": [
      "Enter a string with spaces between words:  Pw skliis\n"
     ]
    },
    {
     "name": "stdout",
     "output_type": "stream",
     "text": [
      "Modified string with underscores: Pw_skliis\n"
     ]
    }
   ],
   "source": [
    "def spaces_to_underscores(input_string):\n",
    "    # Use the str.replace() method to replace spaces with underscores\n",
    "    modified_string = input_string.replace(\" \", \"_\")\n",
    "    return modified_string\n",
    "\n",
    "# Input string\n",
    "input_string = input(\"Enter a string with spaces between words: \")\n",
    "\n",
    "# Call the spaces_to_underscores function and print the result\n",
    "result = spaces_to_underscores(input_string)\n",
    "print(\"Modified string with underscores:\", result)\n"
   ]
  },
  {
   "cell_type": "code",
   "execution_count": 26,
   "id": "24e6656d-73a5-4d27-9e9c-99108d2662c0",
   "metadata": {},
   "outputs": [
    {
     "name": "stdin",
     "output_type": "stream",
     "text": [
      "Enter a string:  Pwskills\n",
      "Enter the prefix to check for:  P\n"
     ]
    },
    {
     "name": "stdout",
     "output_type": "stream",
     "text": [
      "The string starts with 'P'.\n"
     ]
    }
   ],
   "source": [
    "def starts_with(input_string, prefix):\n",
    "    # Use the str.startswith() method to check if the string starts with the specified prefix\n",
    "    return input_string.startswith(prefix)\n",
    "\n",
    "# Input string\n",
    "input_string = input(\"Enter a string: \")\n",
    "prefix = input(\"Enter the prefix to check for: \")\n",
    "\n",
    "# Call the starts_with function and print the result\n",
    "if starts_with(input_string, prefix):\n",
    "    print(f\"The string starts with '{prefix}'.\")\n",
    "else:\n",
    "    print(f\"The string does not start with '{prefix}'.\")\n"
   ]
  },
  {
   "cell_type": "code",
   "execution_count": 27,
   "id": "6aae5a62-a254-4ff5-8fb3-d5fda7e62857",
   "metadata": {},
   "outputs": [
    {
     "name": "stdin",
     "output_type": "stream",
     "text": [
      "Enter a string:  pwslikks\n",
      "Enter the suffix to check for:  s\n"
     ]
    },
    {
     "name": "stdout",
     "output_type": "stream",
     "text": [
      "The string ends with 's'.\n"
     ]
    }
   ],
   "source": [
    "def ends_with(input_string, suffix):\n",
    "    # Use the str.endswith() method to check if the string ends with the specified suffix\n",
    "    return input_string.endswith(suffix)\n",
    "\n",
    "# Input string\n",
    "input_string = input(\"Enter a string: \")\n",
    "suffix = input(\"Enter the suffix to check for: \")\n",
    "\n",
    "# Call the ends_with function and print the result\n",
    "if ends_with(input_string, suffix):\n",
    "    print(f\"The string ends with '{suffix}'.\")\n",
    "else:\n",
    "    print(f\"The string does not end with '{suffix}'.\")\n"
   ]
  },
  {
   "cell_type": "code",
   "execution_count": 29,
   "id": "c575185f-b08a-48fd-89e0-865338fddaa3",
   "metadata": {},
   "outputs": [
    {
     "name": "stdin",
     "output_type": "stream",
     "text": [
      "Enter a string:  Pw skill\n"
     ]
    },
    {
     "name": "stdout",
     "output_type": "stream",
     "text": [
      "String in title case: Pw Skill\n"
     ]
    }
   ],
   "source": [
    "def title_case(input_string):\n",
    "    # Use the str.title() method to convert the string to title case\n",
    "    title_case_string = input_string.title()\n",
    "    return title_case_string\n",
    "\n",
    "# Input string\n",
    "input_string = input(\"Enter a string: \")\n",
    "\n",
    "# Call the title_case function and print the result\n",
    "result = title_case(input_string)\n",
    "print(\"String in title case:\", result)\n"
   ]
  },
  {
   "cell_type": "code",
   "execution_count": 30,
   "id": "e13034e9-aa4b-4451-ada7-b39002cb5706",
   "metadata": {},
   "outputs": [
    {
     "name": "stdin",
     "output_type": "stream",
     "text": [
      "Enter a string:  I love to play video games\n"
     ]
    },
    {
     "name": "stdout",
     "output_type": "stream",
     "text": [
      "Longest word in the string: video\n"
     ]
    }
   ],
   "source": [
    "def find_longest_word(input_string):\n",
    "    # Split the input string into words using whitespace as the separator\n",
    "    words = input_string.split()\n",
    "    \n",
    "    # Initialize variables to store the longest word and its length\n",
    "    longest_word = \"\"\n",
    "    max_length = 0\n",
    "    \n",
    "    # Iterate through the words to find the longest one\n",
    "    for word in words:\n",
    "        # Remove punctuation (optional)\n",
    "        word = word.strip(\".,!?\")\n",
    "        \n",
    "        # Check if the current word is longer than the previously found longest word\n",
    "        if len(word) > max_length:\n",
    "            longest_word = word\n",
    "            max_length = len(word)\n",
    "    \n",
    "    return longest_word\n",
    "\n",
    "# Input string\n",
    "input_string = input(\"Enter a string: \")\n",
    "\n",
    "# Call the find_longest_word function and print the result\n",
    "longest_word = find_longest_word(input_string)\n",
    "print(\"Longest word in the string:\", longest_word)\n"
   ]
  },
  {
   "cell_type": "code",
   "execution_count": 31,
   "id": "fbe936f9-cd24-435e-823b-43816a439182",
   "metadata": {},
   "outputs": [
    {
     "name": "stdin",
     "output_type": "stream",
     "text": [
      "Enter a string:  This is not so cool\n"
     ]
    },
    {
     "name": "stdout",
     "output_type": "stream",
     "text": [
      "Shortest word in the string: is\n"
     ]
    }
   ],
   "source": [
    "def find_shortest_word(input_string):\n",
    "    # Split the input string into words using whitespace as the separator\n",
    "    words = input_string.split()\n",
    "    \n",
    "    # Initialize variables to store the shortest word and its length\n",
    "    shortest_word = None\n",
    "    min_length = float('inf')\n",
    "    \n",
    "    # Iterate through the words to find the shortest one\n",
    "    for word in words:\n",
    "        # Remove punctuation (optional)\n",
    "        word = word.strip(\".,!?\")\n",
    "        \n",
    "        # Check if the current word is shorter than the previously found shortest word\n",
    "        if len(word) < min_length:\n",
    "            shortest_word = word\n",
    "            min_length = len(word)\n",
    "    \n",
    "    return shortest_word\n",
    "\n",
    "# Input string\n",
    "input_string = input(\"Enter a string: \")\n",
    "\n",
    "# Call the find_shortest_word function and print the result\n",
    "shortest_word = find_shortest_word(input_string)\n",
    "\n",
    "# Check if a shortest word was found and print the result\n",
    "if shortest_word is not None:\n",
    "    print(\"Shortest word in the string:\", shortest_word)\n",
    "else:\n",
    "    print(\"No words found in the string.\")\n"
   ]
  },
  {
   "cell_type": "code",
   "execution_count": 32,
   "id": "0aea9464-033d-40b0-8189-96496039a921",
   "metadata": {},
   "outputs": [
    {
     "name": "stdin",
     "output_type": "stream",
     "text": [
      "Enter a string:  Pw skills\n"
     ]
    },
    {
     "name": "stdout",
     "output_type": "stream",
     "text": [
      "Reversed string: skills Pw\n"
     ]
    }
   ],
   "source": [
    "def reverse_words(input_string):\n",
    "    # Split the input string into words using whitespace as the separator\n",
    "    words = input_string.split()\n",
    "    \n",
    "    # Reverse the order of words\n",
    "    reversed_words = words[::-1]\n",
    "    \n",
    "    # Join the reversed words back into a string with spaces as separators\n",
    "    reversed_string = \" \".join(reversed_words)\n",
    "    \n",
    "    return reversed_string\n",
    "\n",
    "# Input string\n",
    "input_string = input(\"Enter a string: \")\n",
    "\n",
    "# Call the reverse_words function and print the result\n",
    "reversed_string = reverse_words(input_string)\n",
    "print(\"Reversed string:\", reversed_string)\n"
   ]
  },
  {
   "cell_type": "code",
   "execution_count": 33,
   "id": "185a1dcb-ca63-4ac2-a14a-957d8e0ca698",
   "metadata": {},
   "outputs": [
    {
     "name": "stdin",
     "output_type": "stream",
     "text": [
      "Enter a string:  Pw skills\n"
     ]
    },
    {
     "name": "stdout",
     "output_type": "stream",
     "text": [
      "The string is not alphanumeric.\n"
     ]
    }
   ],
   "source": [
    "def is_alphanumeric(input_string):\n",
    "    # Use the str.isalnum() method to check if the string is alphanumeric\n",
    "    return input_string.isalnum()\n",
    "\n",
    "# Input string\n",
    "input_string = input(\"Enter a string: \")\n",
    "\n",
    "# Call the is_alphanumeric function and print the result\n",
    "if is_alphanumeric(input_string):\n",
    "    print(\"The string is alphanumeric.\")\n",
    "else:\n",
    "    print(\"The string is not alphanumeric.\")\n"
   ]
  },
  {
   "cell_type": "code",
   "execution_count": 34,
   "id": "a0f4007f-b0c7-4fe5-921f-6d1d6c4649e5",
   "metadata": {},
   "outputs": [
    {
     "name": "stdin",
     "output_type": "stream",
     "text": [
      "Enter a string:  I am 23 years old\n"
     ]
    },
    {
     "name": "stdout",
     "output_type": "stream",
     "text": [
      "Extracted digits: 23\n"
     ]
    }
   ],
   "source": [
    "import re\n",
    "\n",
    "def extract_digits(input_string):\n",
    "    # Use regular expression to find all digits in the input string\n",
    "    digit_list = re.findall(r'\\d', input_string)\n",
    "    \n",
    "    # Join the extracted digits into a single string\n",
    "    extracted_digits = ''.join(digit_list)\n",
    "    \n",
    "    return extracted_digits\n",
    "\n",
    "# Input string\n",
    "input_string = input(\"Enter a string: \")\n",
    "\n",
    "# Call the extract_digits function and print the result\n",
    "extracted_digits = extract_digits(input_string)\n",
    "print(\"Extracted digits:\", extracted_digits)\n"
   ]
  },
  {
   "cell_type": "code",
   "execution_count": 35,
   "id": "20fdb9f3-33a0-4a3f-a1f5-07c81c3dc2db",
   "metadata": {},
   "outputs": [
    {
     "name": "stdin",
     "output_type": "stream",
     "text": [
      "Enter a string:  I am 23 years old\n"
     ]
    },
    {
     "name": "stdout",
     "output_type": "stream",
     "text": [
      "Extracted alphabetic characters: Iamyearsold\n"
     ]
    }
   ],
   "source": [
    "import re\n",
    "\n",
    "def extract_alphabets(input_string):\n",
    "    # Use regular expression to find all alphabetic characters in the input string\n",
    "    alphabet_list = re.findall(r'[a-zA-Z]', input_string)\n",
    "    \n",
    "    # Join the extracted alphabetic characters into a single string\n",
    "    extracted_alphabets = ''.join(alphabet_list)\n",
    "    \n",
    "    return extracted_alphabets\n",
    "\n",
    "# Input string\n",
    "input_string = input(\"Enter a string: \")\n",
    "\n",
    "# Call the extract_alphabets function and print the result\n",
    "extracted_alphabets = extract_alphabets(input_string)\n",
    "print(\"Extracted alphabetic characters:\", extracted_alphabets)\n"
   ]
  },
  {
   "cell_type": "code",
   "execution_count": 36,
   "id": "43c1cf4c-ceff-41a8-82c0-ee44e3f1bbfa",
   "metadata": {},
   "outputs": [
    {
     "name": "stdin",
     "output_type": "stream",
     "text": [
      "Enter a string:  How Are You Doing Today\n"
     ]
    },
    {
     "name": "stdout",
     "output_type": "stream",
     "text": [
      "Number of uppercase letters: 5\n"
     ]
    }
   ],
   "source": [
    "def count_uppercase_letters(input_string):\n",
    "    # Initialize a variable to count uppercase letters\n",
    "    count = 0\n",
    "    \n",
    "    # Iterate through the characters in the input string\n",
    "    for char in input_string:\n",
    "        # Check if the character is uppercase\n",
    "        if char.isupper():\n",
    "            count += 1\n",
    "    \n",
    "    return count\n",
    "\n",
    "# Input string\n",
    "input_string = input(\"Enter a string: \")\n",
    "\n",
    "# Call the count_uppercase_letters function and print the result\n",
    "uppercase_count = count_uppercase_letters(input_string)\n",
    "print(\"Number of uppercase letters:\", uppercase_count)\n"
   ]
  },
  {
   "cell_type": "code",
   "execution_count": 37,
   "id": "687cf510-1e1c-4f26-a684-8fecf0906eec",
   "metadata": {},
   "outputs": [
    {
     "name": "stdin",
     "output_type": "stream",
     "text": [
      "Enter a string:  I am very happy\n"
     ]
    },
    {
     "name": "stdout",
     "output_type": "stream",
     "text": [
      "Number of lowercase letters: 11\n"
     ]
    }
   ],
   "source": [
    "def count_lowercase_letters(input_string):\n",
    "    # Initialize a variable to count lowercase letters\n",
    "    count = 0\n",
    "    \n",
    "    # Iterate through the characters in the input string\n",
    "    for char in input_string:\n",
    "        # Check if the character is lowercase\n",
    "        if char.islower():\n",
    "            count += 1\n",
    "    \n",
    "    return count\n",
    "\n",
    "# Input string\n",
    "input_string = input(\"Enter a string: \")\n",
    "\n",
    "# Call the count_lowercase_letters function and print the result\n",
    "lowercase_count = count_lowercase_letters(input_string)\n",
    "print(\"Number of lowercase letters:\", lowercase_count)\n"
   ]
  },
  {
   "cell_type": "code",
   "execution_count": 38,
   "id": "672728e0-555f-46fd-a68b-7dff392a8e39",
   "metadata": {},
   "outputs": [
    {
     "name": "stdin",
     "output_type": "stream",
     "text": [
      "Enter a string:  Pw Skills\n"
     ]
    },
    {
     "name": "stdout",
     "output_type": "stream",
     "text": [
      "String with swapped case: pW sKILLS\n"
     ]
    }
   ],
   "source": [
    "def swap_case(input_string):\n",
    "    # Use the str.swapcase() method to swap the case of characters\n",
    "    swapped_string = input_string.swapcase()\n",
    "    return swapped_string\n",
    "\n",
    "# Input string\n",
    "input_string = input(\"Enter a string: \")\n",
    "\n",
    "# Call the swap_case function and print the result\n",
    "result = swap_case(input_string)\n",
    "print(\"String with swapped case:\", result)\n"
   ]
  },
  {
   "cell_type": "code",
   "execution_count": 40,
   "id": "d65574e2-562f-4cac-8b57-91917cffbb34",
   "metadata": {},
   "outputs": [
    {
     "name": "stdin",
     "output_type": "stream",
     "text": [
      "Enter a string:  Im not mad \n",
      "Enter the word to remove:  not\n"
     ]
    },
    {
     "name": "stdout",
     "output_type": "stream",
     "text": [
      "String with 'not' removed: Im  mad \n"
     ]
    }
   ],
   "source": [
    "def remove_word(input_string, word_to_remove):\n",
    "    # Use the str.replace() method to remove the specified word\n",
    "    modified_string = input_string.replace(word_to_remove, \"\")\n",
    "    return modified_string\n",
    "\n",
    "# Input string\n",
    "input_string = input(\"Enter a string: \")\n",
    "word_to_remove = input(\"Enter the word to remove: \")\n",
    "\n",
    "# Call the remove_word function and print the result\n",
    "result = remove_word(input_string, word_to_remove)\n",
    "print(\"String with '{}' removed:\".format(word_to_remove), result)\n"
   ]
  },
  {
   "cell_type": "code",
   "execution_count": 42,
   "id": "d6ddd90f-d641-42f6-b01e-939be33b0fea",
   "metadata": {},
   "outputs": [
    {
     "name": "stdin",
     "output_type": "stream",
     "text": [
      "Enter an email address:  1234@2111\n"
     ]
    },
    {
     "name": "stdout",
     "output_type": "stream",
     "text": [
      "The email address is not valid.\n"
     ]
    }
   ],
   "source": [
    "import re\n",
    "\n",
    "def is_valid_email(email):\n",
    "    # Regular expression pattern for a basic email address validation\n",
    "    pattern = r'^[a-zA-Z0-9._%+-]+@[a-zA-Z0-9.-]+\\.[a-zA-Z]{2,}$'\n",
    "    \n",
    "    # Use re.match() to check if the email matches the pattern\n",
    "    return re.match(pattern, email) is not None\n",
    "\n",
    "# Input email address\n",
    "email_address = input(\"Enter an email address: \")\n",
    "\n",
    "# Call the is_valid_email function and print the result\n",
    "if is_valid_email(email_address):\n",
    "    print(\"The email address is valid.\")\n",
    "else:\n",
    "    print(\"The email address is not valid.\")\n"
   ]
  },
  {
   "cell_type": "code",
   "execution_count": 2,
   "id": "1f16a425-cb43-4c11-805f-5f04cb1f0c08",
   "metadata": {},
   "outputs": [
    {
     "name": "stdout",
     "output_type": "stream",
     "text": [
      "maynak2001\n"
     ]
    }
   ],
   "source": [
    "import re\n",
    "\n",
    "email = \"maynak2001@gmail.com\"\n",
    "match = re.match(r'[^@]+', email)\n",
    "if match:\n",
    "    username = match.group(0)\n",
    "    print(username)\n",
    "else:\n",
    "    print(\"Invalid email address\")"
   ]
  },
  {
   "cell_type": "code",
   "execution_count": 3,
   "id": "0f91797a-311c-458e-b5b8-acd08526c5a9",
   "metadata": {},
   "outputs": [
    {
     "name": "stdout",
     "output_type": "stream",
     "text": [
      "gmail.com\n"
     ]
    }
   ],
   "source": [
    "import re\n",
    "\n",
    "email = \"maynak2001@gmail.com\"\n",
    "match = re.search(r'@(.+)', email)\n",
    "if match:\n",
    "    domain = match.group(1)\n",
    "    print(domain)\n",
    "else:\n",
    "    print(\"Invalid email address\")"
   ]
  },
  {
   "cell_type": "code",
   "execution_count": 4,
   "id": "59b4afb1-842c-46ef-a137-6d4bb9406873",
   "metadata": {},
   "outputs": [
    {
     "name": "stdout",
     "output_type": "stream",
     "text": [
      "This is an example with multiple spaces.\n"
     ]
    }
   ],
   "source": [
    "import re\n",
    "\n",
    "input_string = \"This   is    an   example    with   multiple   spaces.\"\n",
    "output_string = re.sub(r'\\s+', ' ', input_string)\n",
    "print(output_string)"
   ]
  },
  {
   "cell_type": "code",
   "execution_count": 6,
   "id": "080ca888-c2d2-4f01-bc2d-fcf2e6643b11",
   "metadata": {},
   "outputs": [
    {
     "name": "stdout",
     "output_type": "stream",
     "text": [
      "Valid URL\n"
     ]
    }
   ],
   "source": [
    "import re\n",
    "import urllib.parse\n",
    "\n",
    "def is_valid_url(url):\n",
    "    # Use regular expression to check basic URL format\n",
    "    url_pattern = re.compile(r'https?://\\S+')\n",
    "    if not url_pattern.match(url):\n",
    "        return False\n",
    "\n",
    "    # Use urllib.parse to check for further validation\n",
    "    try:\n",
    "        urllib.parse.urlparse(url)\n",
    "        return True\n",
    "    except ValueError:\n",
    "        return False\n",
    "\n",
    "# Example usage\n",
    "url = \"https://www.google.com\"\n",
    "if is_valid_url(url):\n",
    "    print(\"Valid URL\")\n",
    "else:\n",
    "    print(\"Invalid URL\")"
   ]
  },
  {
   "cell_type": "code",
   "execution_count": 8,
   "id": "84a98252-6ce5-4f33-bbdc-efec5591c362",
   "metadata": {},
   "outputs": [
    {
     "name": "stdout",
     "output_type": "stream",
     "text": [
      "https://\n"
     ]
    }
   ],
   "source": [
    "import re\n",
    "\n",
    "url = \"https://www.google.com\"\n",
    "match = re.match(r'^https?://', url)\n",
    "if match:\n",
    "    protocol = match.group(0)\n",
    "    print(protocol)\n",
    "else:\n",
    "    print(\"No protocol found in the URL\")"
   ]
  },
  {
   "cell_type": "code",
   "execution_count": 9,
   "id": "f2eaaee5-a8ce-4a2a-ab8e-e54c44b0c11b",
   "metadata": {},
   "outputs": [
    {
     "name": "stdout",
     "output_type": "stream",
     "text": [
      "'p': 1\n",
      "'w': 1\n",
      "'s': 2\n",
      "'k': 1\n",
      "'i': 1\n",
      "'l': 2\n"
     ]
    }
   ],
   "source": [
    "input_string = \"Pw Skills\"\n",
    "char_frequency = {}\n",
    "\n",
    "# Iterate through the string and count character frequencies\n",
    "for char in input_string:\n",
    "    if char.isalpha():  # Exclude non-alphabetic characters\n",
    "        char = char.lower()  # Convert to lowercase to treat 'A' and 'a' as the same character\n",
    "        char_frequency[char] = char_frequency.get(char, 0) + 1\n",
    "\n",
    "# Print character frequencies\n",
    "for char, frequency in char_frequency.items():\n",
    "    print(f\"'{char}': {frequency}\")"
   ]
  },
  {
   "cell_type": "code",
   "execution_count": 10,
   "id": "33732f31-0150-455e-b62e-db42cb6e1d3f",
   "metadata": {},
   "outputs": [
    {
     "name": "stdout",
     "output_type": "stream",
     "text": [
      "Hello World This is a test string\n"
     ]
    }
   ],
   "source": [
    "import re\n",
    "\n",
    "input_string = \"Hello, World! This is a test string.\"\n",
    "# Remove all punctuation using regular expression\n",
    "cleaned_string = re.sub(r'[^\\w\\s]', '', input_string)\n",
    "print(cleaned_string)\n"
   ]
  },
  {
   "cell_type": "code",
   "execution_count": 11,
   "id": "edde64d0-11e4-4c0f-a448-9d801f08205c",
   "metadata": {},
   "outputs": [
    {
     "name": "stdout",
     "output_type": "stream",
     "text": [
      "The string contains only digits.\n"
     ]
    }
   ],
   "source": [
    "input_string = \"12345\"\n",
    "\n",
    "if input_string.isdigit():\n",
    "    print(\"The string contains only digits.\")\n",
    "else:\n",
    "    print(\"The string contains non-digit characters.\")"
   ]
  },
  {
   "cell_type": "code",
   "execution_count": 12,
   "id": "efd68b24-3a8d-4f2d-8293-cba9a6711848",
   "metadata": {},
   "outputs": [
    {
     "name": "stdout",
     "output_type": "stream",
     "text": [
      "The string contains only alphabetic characters.\n"
     ]
    }
   ],
   "source": [
    "input_string = \"PWSkills\"\n",
    "\n",
    "if input_string.isalpha():\n",
    "    print(\"The string contains only alphabetic characters.\")\n",
    "else:\n",
    "    print(\"The string contains non-alphabetic characters.\")\n"
   ]
  },
  {
   "cell_type": "code",
   "execution_count": 14,
   "id": "3c67c208-c2e3-4b2f-8a1a-e75c1f0c1372",
   "metadata": {},
   "outputs": [
    {
     "name": "stdout",
     "output_type": "stream",
     "text": [
      "['P', 'W', ' ', 'S', 'k', 'i', 'l', 'l', 's']\n"
     ]
    }
   ],
   "source": [
    "input_string = \"PW Skills\"\n",
    "\n",
    "character_list = [char for char in input_string]\n",
    "print(character_list)\n"
   ]
  },
  {
   "cell_type": "code",
   "execution_count": 15,
   "id": "3bc049b7-5149-4aee-852e-47070a0587d4",
   "metadata": {},
   "outputs": [
    {
     "name": "stdout",
     "output_type": "stream",
     "text": [
      "The strings are anagrams.\n"
     ]
    }
   ],
   "source": [
    "def are_anagrams(str1, str2):\n",
    "    # Remove spaces and convert to lowercase for case-insensitive comparison\n",
    "    str1 = str1.replace(\" \", \"\").lower()\n",
    "    str2 = str2.replace(\" \", \"\").lower()\n",
    "    \n",
    "    # Check if the sorted characters of both strings match\n",
    "    return sorted(str1) == sorted(str2)\n",
    "\n",
    "# Example usage\n",
    "string1 = \"listen\"\n",
    "string2 = \"silent\"\n",
    "if are_anagrams(string1, string2):\n",
    "    print(\"The strings are anagrams.\")\n",
    "else:\n",
    "    print(\"The strings are not anagrams.\")\n"
   ]
  },
  {
   "cell_type": "code",
   "execution_count": 16,
   "id": "98589a72-515b-479e-b5ec-46182955d1b7",
   "metadata": {},
   "outputs": [
    {
     "name": "stdout",
     "output_type": "stream",
     "text": [
      "SZ Vnloov\n"
     ]
    }
   ],
   "source": [
    "def caesar_cipher_encrypt(text, shift):\n",
    "    encrypted_text = \"\"\n",
    "    \n",
    "    for char in text:\n",
    "        if char.isalpha():  # Check if the character is alphabetic\n",
    "            is_upper = char.isupper()  # Check if it's uppercase\n",
    "            char = char.lower()  # Convert to lowercase for easier manipulation\n",
    "            shifted = chr(((ord(char) - ord('a') + shift) % 26) + ord('a'))\n",
    "            if is_upper:\n",
    "                shifted = shifted.upper()  # Convert back to uppercase if it was originally uppercase\n",
    "            encrypted_text += shifted\n",
    "        else:\n",
    "            encrypted_text += char  # Keep non-alphabetic characters unchanged\n",
    "\n",
    "    return encrypted_text\n",
    "\n",
    "# Example usage\n",
    "plaintext = \"PW Skills\"\n",
    "shift = 3\n",
    "cipher_text = caesar_cipher_encrypt(plaintext, shift)\n",
    "print(cipher_text)\n"
   ]
  },
  {
   "cell_type": "code",
   "execution_count": 22,
   "id": "afb49545-39a6-46d1-9ffd-59da4328ee99",
   "metadata": {},
   "outputs": [
    {
     "name": "stdout",
     "output_type": "stream",
     "text": [
      "JV PBZOBQ QBUQ\n"
     ]
    }
   ],
   "source": [
    "def caesar_cipher_decrypt(ciphertext, shift):\n",
    "    decrypted_text = \"\"\n",
    "    \n",
    "    for char in ciphertext:\n",
    "        if char.isalpha():  # Check if the character is alphabetic\n",
    "            is_upper = char.isupper()  # Check if it's uppercase\n",
    "            char = char.lower()  # Convert to lowercase for easier manipulation\n",
    "            shifted = chr(((ord(char) - ord('a') - shift) % 26) + ord('a'))\n",
    "            if is_upper:\n",
    "                shifted = shifted.upper()  # Convert back to uppercase if it was originally uppercase\n",
    "            decrypted_text += shifted\n",
    "        else:\n",
    "            decrypted_text += char  # Keep non-alphabetic characters unchanged\n",
    "\n",
    "    return decrypted_text\n",
    "\n",
    "# Example usage\n",
    "cipher_text = \"MY SECRET TEXT\"\n",
    "shift = 3\n",
    "plain_text = caesar_cipher_decrypt(cipher_text, shift)\n",
    "print(plain_text)\n"
   ]
  },
  {
   "cell_type": "code",
   "execution_count": 23,
   "id": "622ddc94-e065-4a5f-89e8-8374dbc05a66",
   "metadata": {},
   "outputs": [
    {
     "name": "stdout",
     "output_type": "stream",
     "text": [
      "The most frequent word is 'test' with a frequency of 3.\n"
     ]
    }
   ],
   "source": [
    "from collections import Counter\n",
    "import re\n",
    "\n",
    "def most_frequent_word(text):\n",
    "    # Split the text into words (tokenization)\n",
    "    words = re.findall(r'\\w+', text.lower())\n",
    "    \n",
    "    # Count the frequency of each word\n",
    "    word_counts = Counter(words)\n",
    "    \n",
    "    # Find the most frequent word\n",
    "    most_common_word = word_counts.most_common(1)[0]\n",
    "    \n",
    "    return most_common_word\n",
    "\n",
    "# Example usage\n",
    "input_string = \"This is a test. This is only a test. Test, please.\"\n",
    "most_common_word, frequency = most_frequent_word(input_string)\n",
    "print(f\"The most frequent word is '{most_common_word}' with a frequency of {frequency}.\")\n"
   ]
  },
  {
   "cell_type": "code",
   "execution_count": 24,
   "id": "808fe376-e55e-47e1-8954-e395c7479e80",
   "metadata": {},
   "outputs": [
    {
     "name": "stdout",
     "output_type": "stream",
     "text": [
      "Unique words in the string: ['this', 'please', 'test', 'is', 'only', 'a']\n"
     ]
    }
   ],
   "source": [
    "import re\n",
    "\n",
    "def unique_words(text):\n",
    "    # Split the text into words (tokenization)\n",
    "    words = re.findall(r'\\w+', text.lower())\n",
    "    \n",
    "    # Use a set to store unique words\n",
    "    unique_words_set = set(words)\n",
    "    \n",
    "    return list(unique_words_set)\n",
    "\n",
    "# Example usage\n",
    "input_string = \"This is a test. This is only a test. Test, please.\"\n",
    "unique_word_list = unique_words(input_string)\n",
    "print(\"Unique words in the string:\", unique_word_list)\n"
   ]
  },
  {
   "cell_type": "code",
   "execution_count": 25,
   "id": "1db3017f-7ef8-43be-a9ad-2a0232c4923b",
   "metadata": {},
   "outputs": [
    {
     "name": "stdout",
     "output_type": "stream",
     "text": [
      "Total syllables in the text: 18\n"
     ]
    }
   ],
   "source": [
    "import re\n",
    "\n",
    "def count_syllables(word):\n",
    "    # Count the number of vowel sounds (syllables) in the word\n",
    "    # Vowel sounds are sequences of vowels or vowel-consonant pairs\n",
    "    syllables = re.findall(r'[aeiouyAEIOUY]+', word)\n",
    "    return len(syllables)\n",
    "\n",
    "def count_syllables_in_text(text):\n",
    "    # Tokenize the text into words and count syllables in each word\n",
    "    words = text.split()\n",
    "    syllable_count = 0\n",
    "    for word in words:\n",
    "        syllable_count += count_syllables(word)\n",
    "    return syllable_count\n",
    "\n",
    "# Example usage\n",
    "input_text = \"This is an example sentence. Count the syllables in these words.\"\n",
    "total_syllables = count_syllables_in_text(input_text)\n",
    "print(\"Total syllables in the text:\", total_syllables)\n"
   ]
  },
  {
   "cell_type": "code",
   "execution_count": 1,
   "id": "9007b741-6cf7-4b23-ae1f-9fc8cb9f3e4d",
   "metadata": {},
   "outputs": [
    {
     "name": "stdout",
     "output_type": "stream",
     "text": [
      "String contains special characters.\n"
     ]
    }
   ],
   "source": [
    "import re\n",
    "\n",
    "def contains_special_characters(input_string):\n",
    "    # Define a regular expression pattern to match special characters\n",
    "    special_characters_pattern = r'[!@#$%^&*()_+{}\\[\\]:;<>,.?~\\\\\\/|=]'\n",
    "\n",
    "    # Use the re.search function to search for the pattern in the input string\n",
    "    if re.search(special_characters_pattern, input_string):\n",
    "        return True\n",
    "    else:\n",
    "        return False\n",
    "\n",
    "# Example usage:\n",
    "input_string = \"Hello, this is a test string!\"\n",
    "if contains_special_characters(input_string):\n",
    "    print(\"String contains special characters.\")\n",
    "else:\n",
    "    print(\"String does not contain special characters.\")\n"
   ]
  },
  {
   "cell_type": "code",
   "execution_count": 2,
   "id": "f5e6273a-7303-4a9b-801f-f2a3b043ccb0",
   "metadata": {},
   "outputs": [
    {
     "name": "stdout",
     "output_type": "stream",
     "text": [
      "This is sample sentence to test the function\n"
     ]
    }
   ],
   "source": [
    "def remove_nth_word(input_string, n):\n",
    "    # Split the input string into words\n",
    "    words = input_string.split()\n",
    "\n",
    "    # Check if the specified index is valid\n",
    "    if 1 <= n <= len(words):\n",
    "        # Remove the nth word by slicing the list\n",
    "        del words[n - 1]\n",
    "\n",
    "        # Reconstruct the string by joining the words with spaces\n",
    "        result_string = ' '.join(words)\n",
    "        return result_string\n",
    "    else:\n",
    "        return \"Invalid index or no word found at index \" + str(n)\n",
    "\n",
    "# Example usage:\n",
    "input_string = \"This is a sample sentence to test the function\"\n",
    "n = 3  # Remove the 3rd word (index 2)\n",
    "new_string = remove_nth_word(input_string, n)\n",
    "print(new_string)\n"
   ]
  },
  {
   "cell_type": "code",
   "execution_count": 3,
   "id": "99f5316b-3d0a-4af6-9634-b9ee33148310",
   "metadata": {},
   "outputs": [
    {
     "name": "stdout",
     "output_type": "stream",
     "text": [
      "This is a new sample sentence to test the function\n"
     ]
    }
   ],
   "source": [
    "def insert_word_at_nth_position(input_string, word_to_insert, n):\n",
    "    # Split the input string into words\n",
    "    words = input_string.split()\n",
    "\n",
    "    # Check if the specified index is valid\n",
    "    if 0 <= n <= len(words):\n",
    "        # Insert the word at the specified position\n",
    "        words.insert(n, word_to_insert)\n",
    "\n",
    "        # Reconstruct the string by joining the words with spaces\n",
    "        result_string = ' '.join(words)\n",
    "        return result_string\n",
    "    else:\n",
    "        return \"Invalid index. Insertion at position \" + str(n) + \" is not possible.\"\n",
    "\n",
    "# Example usage:\n",
    "input_string = \"This is a sample sentence to test the function\"\n",
    "word_to_insert = \"new\"\n",
    "n = 3  # Insert the word at the 3rd position (index 2)\n",
    "new_string = insert_word_at_nth_position(input_string, word_to_insert, n)\n",
    "print(new_string)\n"
   ]
  },
  {
   "cell_type": "code",
   "execution_count": 5,
   "id": "81538d3a-c004-4186-8d13-f34cf4e255b2",
   "metadata": {},
   "outputs": [
    {
     "name": "stdout",
     "output_type": "stream",
     "text": [
      "['Name', 'Age', 'Location']\n",
      "['Ram', '25', 'Delhi']\n",
      "['Alok', '30', 'West Bengal']\n",
      "['Rohit', '22', 'Pune']\n"
     ]
    }
   ],
   "source": [
    "import csv\n",
    "import io\n",
    "\n",
    "def csv_string_to_list_of_lists(csv_string):\n",
    "    # Create a StringIO object to simulate a file\n",
    "    csv_file = io.StringIO(csv_string)\n",
    "    \n",
    "    # Use the csv.reader to parse the CSV string\n",
    "    csv_reader = csv.reader(csv_file)\n",
    "    \n",
    "    # Convert the CSV data into a list of lists\n",
    "    csv_data = [row for row in csv_reader]\n",
    "    \n",
    "    return csv_data\n",
    "\n",
    "# Example CSV string\n",
    "csv_string = \"Name,Age,Location\\nRam,25,Delhi\\nAlok,30,West Bengal\\nRohit,22,Pune\"\n",
    "\n",
    "# Convert CSV string to a list of lists\n",
    "csv_data = csv_string_to_list_of_lists(csv_string)\n",
    "\n",
    "# Print the resulting list of lists\n",
    "for row in csv_data:\n",
    "    print(row)\n"
   ]
  },
  {
   "cell_type": "code",
   "execution_count": null,
   "id": "87d2f812-3839-4f95-979d-678fed14940f",
   "metadata": {},
   "outputs": [],
   "source": []
  }
 ],
 "metadata": {
  "kernelspec": {
   "display_name": "Python 3 (ipykernel)",
   "language": "python",
   "name": "python3"
  },
  "language_info": {
   "codemirror_mode": {
    "name": "ipython",
    "version": 3
   },
   "file_extension": ".py",
   "mimetype": "text/x-python",
   "name": "python",
   "nbconvert_exporter": "python",
   "pygments_lexer": "ipython3",
   "version": "3.10.8"
  }
 },
 "nbformat": 4,
 "nbformat_minor": 5
}
